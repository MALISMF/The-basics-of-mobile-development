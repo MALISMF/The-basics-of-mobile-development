{
  "cells": [
    {
      "cell_type": "code",
      "execution_count": null,
      "metadata": {
        "vscode": {
          "languageId": "kotlin"
        }
      },
      "outputs": [],
      "source": [
        "fun calculate_rabbit_population(N: Int, M: Int, R: Int): Long {\n",
        "    val ages = MutableList(M) { 0L }\n",
        "    ages[0] = R.toLong()\n",
        "\n",
        "    for (month in 1 until N) {\n",
        "        val newborns = ages.subList(1, ages.size).sum() \n",
        "\n",
        "        for (i in M - 1 downTo 1) {\n",
        "            ages[i] = ages[i - 1]\n",
        "        }\n",
        "        ages[0] = newborns\n",
        "    }\n",
        "\n",
        "    return ages.sum()\n",
        "}\n"
      ]
    },
    {
      "cell_type": "code",
      "execution_count": null,
      "metadata": {
        "vscode": {
          "languageId": "kotlin"
        }
      },
      "outputs": [],
      "source": [
        "calculate_rabbit_population(85, 19, 1)\n"
      ]
    }
  ],
  "metadata": {
    "language_info": {
      "name": "python"
    }
  },
  "nbformat": 4,
  "nbformat_minor": 2
}
